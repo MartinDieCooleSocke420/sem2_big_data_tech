{
 "cells": [
  {
   "cell_type": "markdown",
   "metadata": {},
   "source": [
    "# Data Science - Big Data Technologies Part 2 SoSe2024📊🔍\n",
    "\n",
    "## Apache Kafka 📝\n",
    "\n",
    "This notebook represents my submission for the second exam part in Big Data Technologies for the summer semester of 2024.\n",
    "\n",
    "### Authors 👥\n",
    "- **Martin Brucker** (942815) 🧑‍💻\n",
    "\n",
    "**Due**: 20.06.2024 at 23:59\n",
    "\n",
    "**Contact Information**: martin.brucker@student.fh-kiel.de 📧"
   ]
  },
  {
   "cell_type": "markdown",
   "metadata": {},
   "source": [
    "# Task 1 - INstall and configure Kafka \n",
    "\n",
    "run the docker-compose up with kafka and zookeeper\n",
    "\n",
    "\n",
    "![DockerDesktop](dockerDekstopImg.png)\n",
    "\n",
    "# Task 2 - Create measurements topic\n",
    "\n",
    "Enter the Docker Container via the bash\n",
    "\n",
    "\n",
    "![DockerEXEC](dockerExecContainer.png)\n",
    "\n",
    "after that generate the measurements top\n",
    "\n",
    "![GenerateTopic](kafkaTopicGenerated.png)\n",
    "\n"
   ]
  },
  {
   "cell_type": "markdown",
   "metadata": {},
   "source": [
    "# Task 3 - Test the connection"
   ]
  },
  {
   "cell_type": "code",
   "execution_count": 7,
   "metadata": {},
   "outputs": [],
   "source": [
    "# !pip install kafka-python\n",
    "import json\n",
    "import time\n",
    "from kafka import KafkaProducer"
   ]
  },
  {
   "cell_type": "code",
   "execution_count": 8,
   "metadata": {},
   "outputs": [],
   "source": [
    "measurement = {\n",
    "    'timestamp': time.time(),\n",
    "    'temperature': 20.0  # Temperature of 20 degrees Celsius\n",
    "}\n",
    "\n",
    "producer = KafkaProducer(\n",
    "    bootstrap_servers='localhost:9092',\n",
    "    value_serializer=lambda v: json.dumps(v).encode('utf-8')\n",
    ")\n",
    "\n",
    "producer.send('measurements', value=measurement)\n",
    "producer.flush()\n",
    "producer.close()"
   ]
  },
  {
   "cell_type": "markdown",
   "metadata": {},
   "source": [
    "# Task 4 - Periodically create random measurements"
   ]
  },
  {
   "cell_type": "code",
   "execution_count": 9,
   "metadata": {},
   "outputs": [],
   "source": [
    "import json\n",
    "import random\n",
    "import time\n",
    "from kafka import KafkaConsumer\n",
    "import threading"
   ]
  },
  {
   "cell_type": "code",
   "execution_count": 14,
   "metadata": {},
   "outputs": [
    {
     "name": "stdout",
     "output_type": "stream",
     "text": [
      "Sent: {'timestamp': 1717863366.536789, 'temperature': 12.4, 'humidity': 36.77}\n",
      "Sent: {'timestamp': 1717863371.547196, 'temperature': 28.26, 'humidity': 16.27}\n",
      "Sent: {'timestamp': 1717863376.556234, 'temperature': 22.8, 'humidity': 35.93}\n"
     ]
    }
   ],
   "source": [
    "def create_random_measurement():\n",
    "    \"\"\"\n",
    "    Generates a random measurement including timestamp, temperature, and humidity.\n",
    "    \"\"\"\n",
    "    measurement = {\n",
    "        'timestamp': time.time(),\n",
    "        'temperature': round(random.uniform(-20.0, 40.0), 2),  # Random temperature between -20 and 40 degrees Celsius\n",
    "        'humidity': round(random.uniform(0.0, 100.0), 2)      # Random humidity between 0% and 100%\n",
    "    }\n",
    "    return measurement\n",
    "\n",
    "def produce_measurements():\n",
    "    \"\"\"\n",
    "    Produces random measurements and sends them to the Kafka topic 'measurements'.\n",
    "    \"\"\"\n",
    "    producer = KafkaProducer(\n",
    "        bootstrap_servers='localhost:9092',\n",
    "        value_serializer=lambda v: json.dumps(v).encode('utf-8')\n",
    "    )\n",
    "    \n",
    "    try:\n",
    "        while True:\n",
    "            measurement = create_random_measurement()\n",
    "            producer.send('measurements', value=measurement)\n",
    "            print(f\"Sent: {measurement}\")\n",
    "            producer.flush()\n",
    "            time.sleep(5)  # Wait for 5 seconds before sending the next measurement\n",
    "    except KeyboardInterrupt:\n",
    "        print(\"Stopped by user\")\n",
    "    finally:\n",
    "        producer.close()\n",
    "\n",
    "# Run the producer in a separate thread\n",
    "producer_thread = threading.Thread(target=produce_measurements)\n",
    "producer_thread.start()"
   ]
  },
  {
   "cell_type": "markdown",
   "metadata": {},
   "source": [
    "# Task 5 - Receive Messages from the measurement topic"
   ]
  },
  {
   "cell_type": "code",
   "execution_count": 15,
   "metadata": {},
   "outputs": [
    {
     "name": "stdout",
     "output_type": "stream",
     "text": [
      "Consuming messages from 'measurements' topic...\n",
      "Received measurement:\n",
      "Timestamp: 1717863369.6000967\n",
      "Temperature: 13.03 °C\n",
      "Humidity: 60.88 %\n",
      "-----------------------------------\n",
      "Received measurement:\n",
      "Timestamp: 1717863369.8229668\n",
      "Temperature: 10.38 °C\n",
      "Humidity: 51.06 %\n",
      "-----------------------------------\n",
      "Received measurement:\n",
      "Timestamp: 1717863371.547196\n",
      "Temperature: 28.26 °C\n",
      "Humidity: 16.27 %\n",
      "-----------------------------------\n",
      "Received measurement:\n",
      "Timestamp: 1717863371.7399979\n",
      "Temperature: 27.46 °C\n",
      "Humidity: 44.34 %\n",
      "-----------------------------------\n",
      "Received measurement:\n",
      "Timestamp: 1717863374.6101527\n",
      "Temperature: 34.44 °C\n",
      "Humidity: 99.73 %\n",
      "-----------------------------------\n",
      "Received measurement:\n",
      "Timestamp: 1717863374.830941\n",
      "Temperature: 29.22 °C\n",
      "Humidity: 50.49 %\n",
      "-----------------------------------\n",
      "Received measurement:\n",
      "Timestamp: 1717863376.556234\n",
      "Temperature: 22.8 °C\n",
      "Humidity: 35.93 %\n",
      "-----------------------------------\n",
      "Received measurement:\n",
      "Timestamp: 1717863376.7484767\n",
      "Temperature: 22.98 °C\n",
      "Humidity: 12.41 %\n",
      "-----------------------------------\n"
     ]
    }
   ],
   "source": [
    "import json\n",
    "from kafka import KafkaConsumer\n",
    "\n",
    "def consume_measurements():\n",
    "    consumer = KafkaConsumer(\n",
    "        'measurements',\n",
    "        bootstrap_servers='localhost:9092',\n",
    "        auto_offset_reset='latest',\n",
    "        value_deserializer=lambda x: json.loads(x.decode('utf-8'))\n",
    "    )\n",
    "    \n",
    "    print(\"Consuming messages from 'measurements' topic...\")\n",
    "    for message in consumer:\n",
    "        measurement = message.value\n",
    "        print(\"Received measurement:\")\n",
    "        print(f\"Timestamp: {measurement['timestamp']}\")\n",
    "        print(f\"Temperature: {measurement['temperature']} °C\")\n",
    "        print(f\"Humidity: {measurement['humidity']} %\")\n",
    "        print(\"-\" * 35)\n",
    "\n",
    "consume_thread = threading.Thread(target=consume_measurements)\n",
    "consume_thread.start()\n"
   ]
  }
 ],
 "metadata": {
  "kernelspec": {
   "display_name": ".venv",
   "language": "python",
   "name": "python3"
  },
  "language_info": {
   "codemirror_mode": {
    "name": "ipython",
    "version": 3
   },
   "file_extension": ".py",
   "mimetype": "text/x-python",
   "name": "python",
   "nbconvert_exporter": "python",
   "pygments_lexer": "ipython3",
   "version": "3.10.12"
  }
 },
 "nbformat": 4,
 "nbformat_minor": 2
}
