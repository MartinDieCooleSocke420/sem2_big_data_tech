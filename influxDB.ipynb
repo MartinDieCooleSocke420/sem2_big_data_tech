{
 "cells": [
  {
   "cell_type": "code",
   "execution_count": 18,
   "metadata": {},
   "outputs": [],
   "source": [
    "# install influx python client\n",
    "# !pip3 install influxdb\n",
    "import influxdb_client"
   ]
  },
  {
   "cell_type": "code",
   "execution_count": 46,
   "metadata": {},
   "outputs": [],
   "source": [
    "import os\n",
    "from dotenv import load_dotenv\n",
    "\n",
    "load_dotenv()\n",
    "\n",
    "token = os.getenv('INFLUXDB_ACCESS_TOKEN')\n",
    "org = os.getenv('INFLUXDB_ORG')\n",
    "url = os.getenv('INFLUXDB_URL')"
   ]
  },
  {
   "cell_type": "code",
   "execution_count": 47,
   "metadata": {},
   "outputs": [],
   "source": [
    "write_client = influxdb_client.InfluxDBClient(url=url, token=token, org=org)"
   ]
  },
  {
   "cell_type": "code",
   "execution_count": 48,
   "metadata": {},
   "outputs": [],
   "source": [
    "import influxdb_client, os, time\n",
    "from influxdb_client import InfluxDBClient, Point, WritePrecision\n",
    "from influxdb_client.client.write_api import SYNCHRONOUS"
   ]
  },
  {
   "cell_type": "code",
   "execution_count": 49,
   "metadata": {},
   "outputs": [],
   "source": [
    "# creating funny data\n",
    "\n",
    "bucket=\"weatherstation\"\n",
    "\n",
    "write_api = write_client.write_api(write_options=SYNCHRONOUS)\n",
    "   \n",
    "for value in range(5):\n",
    "  point = (\n",
    "    Point(\"measurement1\")\n",
    "    .tag(\"tagname1\", \"tagvalue1\")\n",
    "    .field(\"field1\", value)\n",
    "  )\n",
    "  write_api.write(bucket=bucket, org=\"ServerTherapist\", record=point)\n",
    "  time.sleep(1) # separate points by 1 second\n"
   ]
  },
  {
   "cell_type": "code",
   "execution_count": 52,
   "metadata": {},
   "outputs": [
    {
     "name": "stdout",
     "output_type": "stream",
     "text": [
      "FluxRecord() table: 0, {'result': '_result', 'table': 0, '_start': datetime.datetime(2024, 5, 6, 12, 39, 1, 572401, tzinfo=tzutc()), '_stop': datetime.datetime(2024, 5, 6, 12, 49, 1, 572401, tzinfo=tzutc()), '_time': datetime.datetime(2024, 5, 6, 12, 48, 46, 830651, tzinfo=tzutc()), '_value': 0, '_field': 'field1', '_measurement': 'measurement1', 'tagname1': 'tagvalue1'}\n",
      "FluxRecord() table: 0, {'result': '_result', 'table': 0, '_start': datetime.datetime(2024, 5, 6, 12, 39, 1, 572401, tzinfo=tzutc()), '_stop': datetime.datetime(2024, 5, 6, 12, 49, 1, 572401, tzinfo=tzutc()), '_time': datetime.datetime(2024, 5, 6, 12, 48, 47, 842529, tzinfo=tzutc()), '_value': 1, '_field': 'field1', '_measurement': 'measurement1', 'tagname1': 'tagvalue1'}\n",
      "FluxRecord() table: 0, {'result': '_result', 'table': 0, '_start': datetime.datetime(2024, 5, 6, 12, 39, 1, 572401, tzinfo=tzutc()), '_stop': datetime.datetime(2024, 5, 6, 12, 49, 1, 572401, tzinfo=tzutc()), '_time': datetime.datetime(2024, 5, 6, 12, 48, 48, 860629, tzinfo=tzutc()), '_value': 2, '_field': 'field1', '_measurement': 'measurement1', 'tagname1': 'tagvalue1'}\n",
      "FluxRecord() table: 0, {'result': '_result', 'table': 0, '_start': datetime.datetime(2024, 5, 6, 12, 39, 1, 572401, tzinfo=tzutc()), '_stop': datetime.datetime(2024, 5, 6, 12, 49, 1, 572401, tzinfo=tzutc()), '_time': datetime.datetime(2024, 5, 6, 12, 48, 49, 866833, tzinfo=tzutc()), '_value': 3, '_field': 'field1', '_measurement': 'measurement1', 'tagname1': 'tagvalue1'}\n",
      "FluxRecord() table: 0, {'result': '_result', 'table': 0, '_start': datetime.datetime(2024, 5, 6, 12, 39, 1, 572401, tzinfo=tzutc()), '_stop': datetime.datetime(2024, 5, 6, 12, 49, 1, 572401, tzinfo=tzutc()), '_time': datetime.datetime(2024, 5, 6, 12, 48, 50, 873000, tzinfo=tzutc()), '_value': 4, '_field': 'field1', '_measurement': 'measurement1', 'tagname1': 'tagvalue1'}\n"
     ]
    }
   ],
   "source": [
    "query_api = write_client.query_api()\n",
    "\n",
    "query = \"\"\"from(bucket: \"weatherstation\")\n",
    " |> range(start: -10m)\n",
    " |> filter(fn: (r) => r._measurement == \"measurement1\")\"\"\"\n",
    "tables = query_api.query(query, org=\"ServerTherapist\")\n",
    "\n",
    "for table in tables:\n",
    "  for record in table.records:\n",
    "    print(record)\n"
   ]
  },
  {
   "cell_type": "code",
   "execution_count": null,
   "metadata": {},
   "outputs": [],
   "source": []
  }
 ],
 "metadata": {
  "kernelspec": {
   "display_name": "Python 3",
   "language": "python",
   "name": "python3"
  },
  "language_info": {
   "codemirror_mode": {
    "name": "ipython",
    "version": 3
   },
   "file_extension": ".py",
   "mimetype": "text/x-python",
   "name": "python",
   "nbconvert_exporter": "python",
   "pygments_lexer": "ipython3",
   "version": "3.10.12"
  }
 },
 "nbformat": 4,
 "nbformat_minor": 2
}
