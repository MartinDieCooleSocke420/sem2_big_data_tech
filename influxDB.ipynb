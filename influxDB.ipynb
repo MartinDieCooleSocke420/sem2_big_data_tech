{
 "cells": [
  {
   "cell_type": "markdown",
   "metadata": {},
   "source": [
    "# Data Science - Big Data Technologies 24 📊🔍\n",
    "\n",
    "## InfluxDB 📝\n",
    "\n",
    "This notebook represents my submission for the first exam part in Big Data Technologies for the summer semester of 2024.\n",
    "\n",
    "### Author 👥\n",
    "- **Martin Brucker** (942815) 🧑‍💻\n",
    "\n",
    "**Due**: 17.05.2024 at 23:59\n",
    "\n",
    "**Contact Information**: martin.brucker@student.fh-kiel.de 📧"
   ]
  },
  {
   "cell_type": "code",
   "execution_count": 18,
   "metadata": {},
   "outputs": [],
   "source": [
    "# !pip install influxdb client\n",
    "import influxdb_client"
   ]
  },
  {
   "cell_type": "code",
   "execution_count": 54,
   "metadata": {},
   "outputs": [],
   "source": [
    "import os\n",
    "from dotenv import load_dotenv\n",
    "\n",
    "load_dotenv()\n",
    "\n",
    "token = os.getenv('INFLUXDB_ACCESS_TOKEN')\n",
    "org = os.getenv('INFLUXDB_ORG')\n",
    "url = os.getenv('INFLUXDB_URL')\n",
    "bucket = os.getenv('INFLUXDB_BUCKET')"
   ]
  },
  {
   "cell_type": "code",
   "execution_count": 55,
   "metadata": {},
   "outputs": [],
   "source": [
    "write_client = influxdb_client.InfluxDBClient(url=url, token=token, org=org)"
   ]
  },
  {
   "cell_type": "code",
   "execution_count": 56,
   "metadata": {},
   "outputs": [],
   "source": [
    "import time\n",
    "from influxdb_client import Point \n",
    "from influxdb_client.client.write_api import SYNCHRONOUS"
   ]
  },
  {
   "cell_type": "code",
   "execution_count": 68,
   "metadata": {},
   "outputs": [],
   "source": [
    "# creating funny data\n",
    "import random\n",
    "\n",
    "write_api = write_client.write_api(write_options=SYNCHRONOUS)\n",
    "   \n",
    "for value in range(10):\n",
    "  point = (\n",
    "    Point(\"measurement1\")\n",
    "    .tag(\"location\", \"Kiel\")\n",
    "    .field(\"Temp\", (random.randint(-8, 38)))\n",
    "  )\n",
    "  write_api.write(bucket=bucket, org=org, record=point)\n",
    "  time.sleep(1) # separate points by 1 second\n"
   ]
  },
  {
   "cell_type": "code",
   "execution_count": 69,
   "metadata": {},
   "outputs": [
    {
     "name": "stdout",
     "output_type": "stream",
     "text": [
      "FluxRecord() table: 0, {'result': '_result', 'table': 0, '_start': datetime.datetime(2024, 5, 6, 14, 11, 56, 764978, tzinfo=tzutc()), '_stop': datetime.datetime(2024, 5, 6, 14, 21, 56, 764978, tzinfo=tzutc()), '_time': datetime.datetime(2024, 5, 6, 14, 21, 46, 608242, tzinfo=tzutc()), '_value': -5, '_field': 'Temp', '_measurement': 'measurement1', 'location': 'Kiel'}\n",
      "FluxRecord() table: 0, {'result': '_result', 'table': 0, '_start': datetime.datetime(2024, 5, 6, 14, 11, 56, 764978, tzinfo=tzutc()), '_stop': datetime.datetime(2024, 5, 6, 14, 21, 56, 764978, tzinfo=tzutc()), '_time': datetime.datetime(2024, 5, 6, 14, 21, 47, 623379, tzinfo=tzutc()), '_value': 4, '_field': 'Temp', '_measurement': 'measurement1', 'location': 'Kiel'}\n",
      "FluxRecord() table: 0, {'result': '_result', 'table': 0, '_start': datetime.datetime(2024, 5, 6, 14, 11, 56, 764978, tzinfo=tzutc()), '_stop': datetime.datetime(2024, 5, 6, 14, 21, 56, 764978, tzinfo=tzutc()), '_time': datetime.datetime(2024, 5, 6, 14, 21, 48, 638033, tzinfo=tzutc()), '_value': 36, '_field': 'Temp', '_measurement': 'measurement1', 'location': 'Kiel'}\n",
      "FluxRecord() table: 0, {'result': '_result', 'table': 0, '_start': datetime.datetime(2024, 5, 6, 14, 11, 56, 764978, tzinfo=tzutc()), '_stop': datetime.datetime(2024, 5, 6, 14, 21, 56, 764978, tzinfo=tzutc()), '_time': datetime.datetime(2024, 5, 6, 14, 21, 49, 654587, tzinfo=tzutc()), '_value': 34, '_field': 'Temp', '_measurement': 'measurement1', 'location': 'Kiel'}\n",
      "FluxRecord() table: 0, {'result': '_result', 'table': 0, '_start': datetime.datetime(2024, 5, 6, 14, 11, 56, 764978, tzinfo=tzutc()), '_stop': datetime.datetime(2024, 5, 6, 14, 21, 56, 764978, tzinfo=tzutc()), '_time': datetime.datetime(2024, 5, 6, 14, 21, 50, 663339, tzinfo=tzutc()), '_value': 32, '_field': 'Temp', '_measurement': 'measurement1', 'location': 'Kiel'}\n",
      "FluxRecord() table: 0, {'result': '_result', 'table': 0, '_start': datetime.datetime(2024, 5, 6, 14, 11, 56, 764978, tzinfo=tzutc()), '_stop': datetime.datetime(2024, 5, 6, 14, 21, 56, 764978, tzinfo=tzutc()), '_time': datetime.datetime(2024, 5, 6, 14, 21, 51, 671035, tzinfo=tzutc()), '_value': -8, '_field': 'Temp', '_measurement': 'measurement1', 'location': 'Kiel'}\n",
      "FluxRecord() table: 0, {'result': '_result', 'table': 0, '_start': datetime.datetime(2024, 5, 6, 14, 11, 56, 764978, tzinfo=tzutc()), '_stop': datetime.datetime(2024, 5, 6, 14, 21, 56, 764978, tzinfo=tzutc()), '_time': datetime.datetime(2024, 5, 6, 14, 21, 52, 686368, tzinfo=tzutc()), '_value': -5, '_field': 'Temp', '_measurement': 'measurement1', 'location': 'Kiel'}\n",
      "FluxRecord() table: 0, {'result': '_result', 'table': 0, '_start': datetime.datetime(2024, 5, 6, 14, 11, 56, 764978, tzinfo=tzutc()), '_stop': datetime.datetime(2024, 5, 6, 14, 21, 56, 764978, tzinfo=tzutc()), '_time': datetime.datetime(2024, 5, 6, 14, 21, 53, 702616, tzinfo=tzutc()), '_value': 6, '_field': 'Temp', '_measurement': 'measurement1', 'location': 'Kiel'}\n",
      "FluxRecord() table: 0, {'result': '_result', 'table': 0, '_start': datetime.datetime(2024, 5, 6, 14, 11, 56, 764978, tzinfo=tzutc()), '_stop': datetime.datetime(2024, 5, 6, 14, 21, 56, 764978, tzinfo=tzutc()), '_time': datetime.datetime(2024, 5, 6, 14, 21, 54, 718365, tzinfo=tzutc()), '_value': 8, '_field': 'Temp', '_measurement': 'measurement1', 'location': 'Kiel'}\n",
      "FluxRecord() table: 0, {'result': '_result', 'table': 0, '_start': datetime.datetime(2024, 5, 6, 14, 11, 56, 764978, tzinfo=tzutc()), '_stop': datetime.datetime(2024, 5, 6, 14, 21, 56, 764978, tzinfo=tzutc()), '_time': datetime.datetime(2024, 5, 6, 14, 21, 55, 734846, tzinfo=tzutc()), '_value': -6, '_field': 'Temp', '_measurement': 'measurement1', 'location': 'Kiel'}\n",
      "FluxRecord() table: 1, {'result': '_result', 'table': 1, '_start': datetime.datetime(2024, 5, 6, 14, 11, 56, 764978, tzinfo=tzutc()), '_stop': datetime.datetime(2024, 5, 6, 14, 21, 56, 764978, tzinfo=tzutc()), '_time': datetime.datetime(2024, 5, 6, 14, 18, 34, 537245, tzinfo=tzutc()), '_value': 22, '_field': 'field1', '_measurement': 'measurement1', 'tagname1': 'tagvalue1'}\n",
      "FluxRecord() table: 1, {'result': '_result', 'table': 1, '_start': datetime.datetime(2024, 5, 6, 14, 11, 56, 764978, tzinfo=tzutc()), '_stop': datetime.datetime(2024, 5, 6, 14, 21, 56, 764978, tzinfo=tzutc()), '_time': datetime.datetime(2024, 5, 6, 14, 18, 35, 554520, tzinfo=tzutc()), '_value': 110, '_field': 'field1', '_measurement': 'measurement1', 'tagname1': 'tagvalue1'}\n",
      "FluxRecord() table: 1, {'result': '_result', 'table': 1, '_start': datetime.datetime(2024, 5, 6, 14, 11, 56, 764978, tzinfo=tzutc()), '_stop': datetime.datetime(2024, 5, 6, 14, 21, 56, 764978, tzinfo=tzutc()), '_time': datetime.datetime(2024, 5, 6, 14, 18, 36, 571959, tzinfo=tzutc()), '_value': 56, '_field': 'field1', '_measurement': 'measurement1', 'tagname1': 'tagvalue1'}\n",
      "FluxRecord() table: 1, {'result': '_result', 'table': 1, '_start': datetime.datetime(2024, 5, 6, 14, 11, 56, 764978, tzinfo=tzutc()), '_stop': datetime.datetime(2024, 5, 6, 14, 21, 56, 764978, tzinfo=tzutc()), '_time': datetime.datetime(2024, 5, 6, 14, 18, 37, 587513, tzinfo=tzutc()), '_value': 3, '_field': 'field1', '_measurement': 'measurement1', 'tagname1': 'tagvalue1'}\n",
      "FluxRecord() table: 1, {'result': '_result', 'table': 1, '_start': datetime.datetime(2024, 5, 6, 14, 11, 56, 764978, tzinfo=tzutc()), '_stop': datetime.datetime(2024, 5, 6, 14, 21, 56, 764978, tzinfo=tzutc()), '_time': datetime.datetime(2024, 5, 6, 14, 18, 38, 601883, tzinfo=tzutc()), '_value': 235, '_field': 'field1', '_measurement': 'measurement1', 'tagname1': 'tagvalue1'}\n",
      "FluxRecord() table: 1, {'result': '_result', 'table': 1, '_start': datetime.datetime(2024, 5, 6, 14, 11, 56, 764978, tzinfo=tzutc()), '_stop': datetime.datetime(2024, 5, 6, 14, 21, 56, 764978, tzinfo=tzutc()), '_time': datetime.datetime(2024, 5, 6, 14, 18, 39, 616564, tzinfo=tzutc()), '_value': 42, '_field': 'field1', '_measurement': 'measurement1', 'tagname1': 'tagvalue1'}\n",
      "FluxRecord() table: 1, {'result': '_result', 'table': 1, '_start': datetime.datetime(2024, 5, 6, 14, 11, 56, 764978, tzinfo=tzutc()), '_stop': datetime.datetime(2024, 5, 6, 14, 21, 56, 764978, tzinfo=tzutc()), '_time': datetime.datetime(2024, 5, 6, 14, 18, 40, 633023, tzinfo=tzutc()), '_value': 141, '_field': 'field1', '_measurement': 'measurement1', 'tagname1': 'tagvalue1'}\n",
      "FluxRecord() table: 1, {'result': '_result', 'table': 1, '_start': datetime.datetime(2024, 5, 6, 14, 11, 56, 764978, tzinfo=tzutc()), '_stop': datetime.datetime(2024, 5, 6, 14, 21, 56, 764978, tzinfo=tzutc()), '_time': datetime.datetime(2024, 5, 6, 14, 18, 41, 649633, tzinfo=tzutc()), '_value': 257, '_field': 'field1', '_measurement': 'measurement1', 'tagname1': 'tagvalue1'}\n",
      "FluxRecord() table: 1, {'result': '_result', 'table': 1, '_start': datetime.datetime(2024, 5, 6, 14, 11, 56, 764978, tzinfo=tzutc()), '_stop': datetime.datetime(2024, 5, 6, 14, 21, 56, 764978, tzinfo=tzutc()), '_time': datetime.datetime(2024, 5, 6, 14, 18, 42, 656484, tzinfo=tzutc()), '_value': 260, '_field': 'field1', '_measurement': 'measurement1', 'tagname1': 'tagvalue1'}\n",
      "FluxRecord() table: 1, {'result': '_result', 'table': 1, '_start': datetime.datetime(2024, 5, 6, 14, 11, 56, 764978, tzinfo=tzutc()), '_stop': datetime.datetime(2024, 5, 6, 14, 21, 56, 764978, tzinfo=tzutc()), '_time': datetime.datetime(2024, 5, 6, 14, 18, 43, 672529, tzinfo=tzutc()), '_value': 59, '_field': 'field1', '_measurement': 'measurement1', 'tagname1': 'tagvalue1'}\n",
      "FluxRecord() table: 1, {'result': '_result', 'table': 1, '_start': datetime.datetime(2024, 5, 6, 14, 11, 56, 764978, tzinfo=tzutc()), '_stop': datetime.datetime(2024, 5, 6, 14, 21, 56, 764978, tzinfo=tzutc()), '_time': datetime.datetime(2024, 5, 6, 14, 19, 10, 424698, tzinfo=tzutc()), '_value': 23, '_field': 'field1', '_measurement': 'measurement1', 'tagname1': 'tagvalue1'}\n",
      "FluxRecord() table: 1, {'result': '_result', 'table': 1, '_start': datetime.datetime(2024, 5, 6, 14, 11, 56, 764978, tzinfo=tzutc()), '_stop': datetime.datetime(2024, 5, 6, 14, 21, 56, 764978, tzinfo=tzutc()), '_time': datetime.datetime(2024, 5, 6, 14, 19, 11, 440251, tzinfo=tzutc()), '_value': -3, '_field': 'field1', '_measurement': 'measurement1', 'tagname1': 'tagvalue1'}\n",
      "FluxRecord() table: 1, {'result': '_result', 'table': 1, '_start': datetime.datetime(2024, 5, 6, 14, 11, 56, 764978, tzinfo=tzutc()), '_stop': datetime.datetime(2024, 5, 6, 14, 21, 56, 764978, tzinfo=tzutc()), '_time': datetime.datetime(2024, 5, 6, 14, 19, 12, 457065, tzinfo=tzutc()), '_value': 26, '_field': 'field1', '_measurement': 'measurement1', 'tagname1': 'tagvalue1'}\n",
      "FluxRecord() table: 1, {'result': '_result', 'table': 1, '_start': datetime.datetime(2024, 5, 6, 14, 11, 56, 764978, tzinfo=tzutc()), '_stop': datetime.datetime(2024, 5, 6, 14, 21, 56, 764978, tzinfo=tzutc()), '_time': datetime.datetime(2024, 5, 6, 14, 19, 13, 473414, tzinfo=tzutc()), '_value': 35, '_field': 'field1', '_measurement': 'measurement1', 'tagname1': 'tagvalue1'}\n",
      "FluxRecord() table: 1, {'result': '_result', 'table': 1, '_start': datetime.datetime(2024, 5, 6, 14, 11, 56, 764978, tzinfo=tzutc()), '_stop': datetime.datetime(2024, 5, 6, 14, 21, 56, 764978, tzinfo=tzutc()), '_time': datetime.datetime(2024, 5, 6, 14, 19, 14, 480890, tzinfo=tzutc()), '_value': 15, '_field': 'field1', '_measurement': 'measurement1', 'tagname1': 'tagvalue1'}\n",
      "FluxRecord() table: 1, {'result': '_result', 'table': 1, '_start': datetime.datetime(2024, 5, 6, 14, 11, 56, 764978, tzinfo=tzutc()), '_stop': datetime.datetime(2024, 5, 6, 14, 21, 56, 764978, tzinfo=tzutc()), '_time': datetime.datetime(2024, 5, 6, 14, 19, 15, 497416, tzinfo=tzutc()), '_value': 2, '_field': 'field1', '_measurement': 'measurement1', 'tagname1': 'tagvalue1'}\n",
      "FluxRecord() table: 1, {'result': '_result', 'table': 1, '_start': datetime.datetime(2024, 5, 6, 14, 11, 56, 764978, tzinfo=tzutc()), '_stop': datetime.datetime(2024, 5, 6, 14, 21, 56, 764978, tzinfo=tzutc()), '_time': datetime.datetime(2024, 5, 6, 14, 19, 16, 504866, tzinfo=tzutc()), '_value': 6, '_field': 'field1', '_measurement': 'measurement1', 'tagname1': 'tagvalue1'}\n",
      "FluxRecord() table: 1, {'result': '_result', 'table': 1, '_start': datetime.datetime(2024, 5, 6, 14, 11, 56, 764978, tzinfo=tzutc()), '_stop': datetime.datetime(2024, 5, 6, 14, 21, 56, 764978, tzinfo=tzutc()), '_time': datetime.datetime(2024, 5, 6, 14, 19, 17, 520358, tzinfo=tzutc()), '_value': 2, '_field': 'field1', '_measurement': 'measurement1', 'tagname1': 'tagvalue1'}\n",
      "FluxRecord() table: 1, {'result': '_result', 'table': 1, '_start': datetime.datetime(2024, 5, 6, 14, 11, 56, 764978, tzinfo=tzutc()), '_stop': datetime.datetime(2024, 5, 6, 14, 21, 56, 764978, tzinfo=tzutc()), '_time': datetime.datetime(2024, 5, 6, 14, 19, 18, 537452, tzinfo=tzutc()), '_value': 24, '_field': 'field1', '_measurement': 'measurement1', 'tagname1': 'tagvalue1'}\n",
      "FluxRecord() table: 1, {'result': '_result', 'table': 1, '_start': datetime.datetime(2024, 5, 6, 14, 11, 56, 764978, tzinfo=tzutc()), '_stop': datetime.datetime(2024, 5, 6, 14, 21, 56, 764978, tzinfo=tzutc()), '_time': datetime.datetime(2024, 5, 6, 14, 19, 19, 554381, tzinfo=tzutc()), '_value': 26, '_field': 'field1', '_measurement': 'measurement1', 'tagname1': 'tagvalue1'}\n",
      "FluxRecord() table: 1, {'result': '_result', 'table': 1, '_start': datetime.datetime(2024, 5, 6, 14, 11, 56, 764978, tzinfo=tzutc()), '_stop': datetime.datetime(2024, 5, 6, 14, 21, 56, 764978, tzinfo=tzutc()), '_time': datetime.datetime(2024, 5, 6, 14, 20, 11, 787178, tzinfo=tzutc()), '_value': 38, '_field': 'field1', '_measurement': 'measurement1', 'tagname1': 'tagvalue1'}\n",
      "FluxRecord() table: 1, {'result': '_result', 'table': 1, '_start': datetime.datetime(2024, 5, 6, 14, 11, 56, 764978, tzinfo=tzutc()), '_stop': datetime.datetime(2024, 5, 6, 14, 21, 56, 764978, tzinfo=tzutc()), '_time': datetime.datetime(2024, 5, 6, 14, 20, 12, 801073, tzinfo=tzutc()), '_value': 7, '_field': 'field1', '_measurement': 'measurement1', 'tagname1': 'tagvalue1'}\n",
      "FluxRecord() table: 1, {'result': '_result', 'table': 1, '_start': datetime.datetime(2024, 5, 6, 14, 11, 56, 764978, tzinfo=tzutc()), '_stop': datetime.datetime(2024, 5, 6, 14, 21, 56, 764978, tzinfo=tzutc()), '_time': datetime.datetime(2024, 5, 6, 14, 20, 13, 817481, tzinfo=tzutc()), '_value': 19, '_field': 'field1', '_measurement': 'measurement1', 'tagname1': 'tagvalue1'}\n",
      "FluxRecord() table: 1, {'result': '_result', 'table': 1, '_start': datetime.datetime(2024, 5, 6, 14, 11, 56, 764978, tzinfo=tzutc()), '_stop': datetime.datetime(2024, 5, 6, 14, 21, 56, 764978, tzinfo=tzutc()), '_time': datetime.datetime(2024, 5, 6, 14, 20, 14, 835377, tzinfo=tzutc()), '_value': 27, '_field': 'field1', '_measurement': 'measurement1', 'tagname1': 'tagvalue1'}\n",
      "FluxRecord() table: 1, {'result': '_result', 'table': 1, '_start': datetime.datetime(2024, 5, 6, 14, 11, 56, 764978, tzinfo=tzutc()), '_stop': datetime.datetime(2024, 5, 6, 14, 21, 56, 764978, tzinfo=tzutc()), '_time': datetime.datetime(2024, 5, 6, 14, 20, 15, 850354, tzinfo=tzutc()), '_value': 33, '_field': 'field1', '_measurement': 'measurement1', 'tagname1': 'tagvalue1'}\n",
      "FluxRecord() table: 1, {'result': '_result', 'table': 1, '_start': datetime.datetime(2024, 5, 6, 14, 11, 56, 764978, tzinfo=tzutc()), '_stop': datetime.datetime(2024, 5, 6, 14, 21, 56, 764978, tzinfo=tzutc()), '_time': datetime.datetime(2024, 5, 6, 14, 20, 16, 859073, tzinfo=tzutc()), '_value': 16, '_field': 'field1', '_measurement': 'measurement1', 'tagname1': 'tagvalue1'}\n",
      "FluxRecord() table: 1, {'result': '_result', 'table': 1, '_start': datetime.datetime(2024, 5, 6, 14, 11, 56, 764978, tzinfo=tzutc()), '_stop': datetime.datetime(2024, 5, 6, 14, 21, 56, 764978, tzinfo=tzutc()), '_time': datetime.datetime(2024, 5, 6, 14, 20, 17, 876983, tzinfo=tzutc()), '_value': 37, '_field': 'field1', '_measurement': 'measurement1', 'tagname1': 'tagvalue1'}\n",
      "FluxRecord() table: 1, {'result': '_result', 'table': 1, '_start': datetime.datetime(2024, 5, 6, 14, 11, 56, 764978, tzinfo=tzutc()), '_stop': datetime.datetime(2024, 5, 6, 14, 21, 56, 764978, tzinfo=tzutc()), '_time': datetime.datetime(2024, 5, 6, 14, 20, 18, 892833, tzinfo=tzutc()), '_value': 31, '_field': 'field1', '_measurement': 'measurement1', 'tagname1': 'tagvalue1'}\n",
      "FluxRecord() table: 1, {'result': '_result', 'table': 1, '_start': datetime.datetime(2024, 5, 6, 14, 11, 56, 764978, tzinfo=tzutc()), '_stop': datetime.datetime(2024, 5, 6, 14, 21, 56, 764978, tzinfo=tzutc()), '_time': datetime.datetime(2024, 5, 6, 14, 20, 19, 908881, tzinfo=tzutc()), '_value': 15, '_field': 'field1', '_measurement': 'measurement1', 'tagname1': 'tagvalue1'}\n",
      "FluxRecord() table: 1, {'result': '_result', 'table': 1, '_start': datetime.datetime(2024, 5, 6, 14, 11, 56, 764978, tzinfo=tzutc()), '_stop': datetime.datetime(2024, 5, 6, 14, 21, 56, 764978, tzinfo=tzutc()), '_time': datetime.datetime(2024, 5, 6, 14, 20, 20, 925368, tzinfo=tzutc()), '_value': 9, '_field': 'field1', '_measurement': 'measurement1', 'tagname1': 'tagvalue1'}\n"
     ]
    }
   ],
   "source": [
    "query_api = write_client.query_api()\n",
    "\n",
    "query = \"\"\"from(bucket: \"weatherstation\")\n",
    " |> range(start: -10m)\n",
    " |> filter(fn: (r) => r._measurement == \"measurement1\")\"\"\"\n",
    "tables = query_api.query(query, org=\"ServerTherapist\")\n",
    "\n",
    "for table in tables:\n",
    "  for record in table.records:\n",
    "    print(record)\n"
   ]
  },
  {
   "cell_type": "code",
   "execution_count": null,
   "metadata": {},
   "outputs": [],
   "source": []
  }
 ],
 "metadata": {
  "kernelspec": {
   "display_name": "Python 3",
   "language": "python",
   "name": "python3"
  },
  "language_info": {
   "codemirror_mode": {
    "name": "ipython",
    "version": 3
   },
   "file_extension": ".py",
   "mimetype": "text/x-python",
   "name": "python",
   "nbconvert_exporter": "python",
   "pygments_lexer": "ipython3",
   "version": "3.10.12"
  }
 },
 "nbformat": 4,
 "nbformat_minor": 2
}
